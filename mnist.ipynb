{
 "cells": [
  {
   "cell_type": "markdown",
   "id": "f971c391-0164-414a-8c8c-81b1460170ac",
   "metadata": {},
   "source": [
    "### Solving MNIST with a simple AF neural network"
   ]
  },
  {
   "cell_type": "code",
   "execution_count": null,
   "id": "b7a31d83-b616-4aaf-a2b8-1d5d12f4aaa3",
   "metadata": {},
   "outputs": [],
   "source": [
    "import keras\n",
    "from keras.datasets import mnist\n",
    "from keras.models import Sequential\n",
    "from keras import layers\n",
    "import matplotlib.pyplot as plt"
   ]
  },
  {
   "cell_type": "markdown",
   "id": "ffb3c6b9-1f41-4ccf-a8c9-c22a273293e6",
   "metadata": {},
   "source": [
    "## Define helper function to print the learned weights"
   ]
  },
  {
   "cell_type": "code",
   "execution_count": null,
   "id": "6e17c7dc-6b4c-49c5-99f2-7254ef98eaa5",
   "metadata": {},
   "outputs": [],
   "source": [
    "def display_digit(data, labels, i):\n",
    "    img = data[i]\n",
    "    plt.title('Example %d. Label: %d' % (i, labels[i]))\n",
    "    plt.imshow(img.reshape((28,28)), cmap=plt.cm.gray_r)\n",
    "    plt.show()"
   ]
  },
  {
   "cell_type": "markdown",
   "id": "de01f558-d49b-4921-a18a-5334505d5be9",
   "metadata": {},
   "source": [
    "## Download the mnist dataset from Keras"
   ]
  },
  {
   "cell_type": "code",
   "execution_count": null,
   "id": "c322b428-baa2-4fb6-aad9-f44ca4e53eac",
   "metadata": {},
   "outputs": [],
   "source": [
    "(x_train, y_train), (x_test, y_test) = mnist.load_data()"
   ]
  },
  {
   "cell_type": "markdown",
   "id": "9fcc72fc-c9e4-48a9-9049-2bf3f8b91874",
   "metadata": {},
   "source": [
    "## Reshape out data to be on one dimension only"
   ]
  },
  {
   "cell_type": "code",
   "execution_count": null,
   "id": "d10497cd-aff9-4b50-8696-621d83554c46",
   "metadata": {},
   "outputs": [],
   "source": [
    "x_train = x_train.reshape(x_train.shape[0], -1, 1)\n",
    "x_test = x_test.reshape(x_test.shape[0], -1, 1)\n",
    "x_train = x_train.astype('float32')\n",
    "x_test = x_test.astype('float32')\n",
    "x_train /= 255\n",
    "x_test /= 255\n",
    "print('x_train shape:', x_train.shape)\n",
    "print(x_train.shape[0], 'train samples')\n",
    "print(x_test.shape[0], 'test samples')"
   ]
  },
  {
   "cell_type": "markdown",
   "id": "ca3ef63c-0d56-4358-9226-0b2bf245027f",
   "metadata": {},
   "source": [
    "## Let's display some of the entries"
   ]
  },
  {
   "cell_type": "code",
   "execution_count": null,
   "id": "9c051198-bcd9-4c23-b6e7-c7cd6fdb6b46",
   "metadata": {},
   "outputs": [],
   "source": [
    "display_digit(x_train, y_train, 400)"
   ]
  },
  {
   "cell_type": "markdown",
   "id": "a9afe711-95b8-4c2f-ae6d-941f9d324940",
   "metadata": {},
   "source": [
    "## convert class vectors to binary class matrices"
   ]
  },
  {
   "cell_type": "code",
   "execution_count": null,
   "id": "5359396b-2d2f-4994-87ee-122fa962a4ec",
   "metadata": {},
   "outputs": [],
   "source": [
    "num_classes = 10\n",
    "\n",
    "print(y_test[0]) \n",
    "y_train = keras.utils.to_categorical(y_train, num_classes)\n",
    "y_test = keras.utils.to_categorical(y_test, num_classes)\n",
    "y_test[0]"
   ]
  },
  {
   "cell_type": "markdown",
   "id": "27b873a9-2346-4f6d-b079-94d0dd815a3c",
   "metadata": {},
   "source": [
    "## Define our model, and compile it"
   ]
  },
  {
   "cell_type": "code",
   "execution_count": null,
   "id": "e249b7d2-e832-4736-abe7-40e6015dbeae",
   "metadata": {},
   "outputs": [],
   "source": [
    "model = Sequential()\n",
    "model = keras.Sequential(\n",
    "    [\n",
    "        keras.Input(shape=(784,)),\n",
    "        #layers.Dense(64, activation=\"relu\"),\n",
    "        #layers.Dense(32, activation=\"relu\"),\n",
    "        layers.Dense(num_classes, activation=\"softmax\"),\n",
    "    ]\n",
    ")\n",
    "\n",
    "model.compile(loss='categorical_crossentropy', optimizer='adam', metrics=['accuracy'])\n",
    "\n",
    "model.summary()"
   ]
  },
  {
   "cell_type": "markdown",
   "id": "e81982ad-69f8-411c-9e18-67d826fd2a60",
   "metadata": {},
   "source": [
    "## Train our model"
   ]
  },
  {
   "cell_type": "code",
   "execution_count": null,
   "id": "2c1ddd33-ef54-4ebe-bfd3-485a04d26034",
   "metadata": {},
   "outputs": [],
   "source": [
    "model.fit(x_train.reshape(60000, 784), y_train, epochs=5, batch_size=32, validation_split=0.1)"
   ]
  },
  {
   "cell_type": "markdown",
   "id": "6d4c9f82-bc36-45d6-be07-793882e5732b",
   "metadata": {},
   "source": [
    "## Score the model vs new data"
   ]
  },
  {
   "cell_type": "code",
   "execution_count": null,
   "id": "9560aeab-a742-44e9-9f62-a9816b282751",
   "metadata": {},
   "outputs": [],
   "source": [
    "score = model.evaluate(x_test.reshape(10000, 784), y_test, verbose=0)\n",
    "print('test loss:', score[0])\n",
    "print('test accuracy:', score[1])"
   ]
  },
  {
   "cell_type": "markdown",
   "id": "aa15d10e-2408-4796-9c3b-28733d44c5fe",
   "metadata": {},
   "source": [
    "## Print the learned weights for each of the classes"
   ]
  },
  {
   "cell_type": "code",
   "execution_count": null,
   "id": "11d1cf0d-c0cb-4764-bc02-5b0c2bfc1914",
   "metadata": {},
   "outputs": [],
   "source": [
    "layers = model.layers\n",
    "weights = layers[0].get_weights()\n",
    "\n",
    "f, axes = plt.subplots(2, 5, figsize=(10,4))\n",
    "axes = axes.reshape(-1)\n",
    "for i in range(len(axes)):\n",
    "    a = axes[i]\n",
    "    a.imshow((weights[0][0:784, i:i+1]).reshape(28, 28), cmap=plt.cm.cividis)\n",
    "    a.set_title(i)\n",
    "    a.set_xticks(())\n",
    "    a.set_yticks(())\n",
    "plt.show()"
   ]
  }
 ],
 "metadata": {
  "kernelspec": {
   "display_name": "Python 3 (ipykernel)",
   "language": "python",
   "name": "python3"
  },
  "language_info": {
   "codemirror_mode": {
    "name": "ipython",
    "version": 3
   },
   "file_extension": ".py",
   "mimetype": "text/x-python",
   "name": "python",
   "nbconvert_exporter": "python",
   "pygments_lexer": "ipython3",
   "version": "3.12.7"
  }
 },
 "nbformat": 4,
 "nbformat_minor": 5
}
