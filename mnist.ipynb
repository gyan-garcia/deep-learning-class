{
 "cells": [
  {
   "cell_type": "markdown",
   "id": "f971c391-0164-414a-8c8c-81b1460170ac",
   "metadata": {},
   "source": [
    "### Solving MNIST with a simple AF neural network"
   ]
  },
  {
   "cell_type": "code",
   "execution_count": 1,
   "id": "235cbb10-696b-4ba6-9186-fe3065392de6",
   "metadata": {},
   "outputs": [],
   "source": [
    "import keras\n",
    "from keras.datasets import mnist\n",
    "from keras.models import Sequential\n",
    "from keras import layers\n",
    "import matplotlib.pyplot as plt"
   ]
  },
  {
   "cell_type": "markdown",
   "id": "ffb3c6b9-1f41-4ccf-a8c9-c22a273293e6",
   "metadata": {},
   "source": [
    "## Define helper function to print the learned weights"
   ]
  },
  {
   "cell_type": "code",
   "execution_count": 2,
   "id": "5a455453-0a54-4fb4-b231-91c52bfe864b",
   "metadata": {},
   "outputs": [],
   "source": [
    "def display_digit(data, labels, i):\n",
    "    img = data[i]\n",
    "    plt.title('Example %d. Label: %d' % (i, labels[i]))\n",
    "    plt.imshow(img.reshape((28,28)), cmap=plt.cm.gray_r)\n",
    "    plt.show()"
   ]
  },
  {
   "cell_type": "markdown",
   "id": "de01f558-d49b-4921-a18a-5334505d5be9",
   "metadata": {},
   "source": [
    "## Download the mnist dataset from Keras"
   ]
  },
  {
   "cell_type": "code",
   "execution_count": 3,
   "id": "de97c065-0b0f-4ef8-b0bb-a6e62c303849",
   "metadata": {},
   "outputs": [],
   "source": [
    "(x_train, y_train), (x_test, y_test) = mnist.load_data()"
   ]
  },
  {
   "cell_type": "markdown",
   "id": "9fcc72fc-c9e4-48a9-9049-2bf3f8b91874",
   "metadata": {},
   "source": [
    "## Reshape out data to be on one dimension only"
   ]
  },
  {
   "cell_type": "code",
   "execution_count": 4,
   "id": "428af74e-3110-4a85-8dc2-90c5d00ab3ed",
   "metadata": {},
   "outputs": [
    {
     "name": "stdout",
     "output_type": "stream",
     "text": [
      "x_train shape: (60000, 784, 1)\n",
      "60000 train samples\n",
      "10000 test samples\n"
     ]
    }
   ],
   "source": [
    "x_train = x_train.reshape(x_train.shape[0], -1, 1)\n",
    "x_test = x_test.reshape(x_test.shape[0], -1, 1)\n",
    "x_train = x_train.astype('float32')\n",
    "x_test = x_test.astype('float32')\n",
    "x_train /= 255\n",
    "x_test /= 255\n",
    "print('x_train shape:', x_train.shape)\n",
    "print(x_train.shape[0], 'train samples')\n",
    "print(x_test.shape[0], 'test samples')"
   ]
  },
  {
   "cell_type": "markdown",
   "id": "ca3ef63c-0d56-4358-9226-0b2bf245027f",
   "metadata": {},
   "source": [
    "## Let's display some of the entries"
   ]
  },
  {
   "cell_type": "code",
   "execution_count": null,
   "id": "0e9a60b6-6741-4d06-9109-0289b7353f40",
   "metadata": {},
   "outputs": [],
   "source": [
    "display_digit(x_train, y_train, 400)"
   ]
  },
  {
   "cell_type": "markdown",
   "id": "a9afe711-95b8-4c2f-ae6d-941f9d324940",
   "metadata": {},
   "source": [
    "## convert class vectors to binary class matrices"
   ]
  },
  {
   "cell_type": "code",
   "execution_count": null,
   "id": "478152df-72cf-49f0-ab49-ec9aec1abb1f",
   "metadata": {},
   "outputs": [],
   "source": [
    "num_classes = 10\n",
    "\n",
    "print(y_test[0]) \n",
    "y_train = keras.utils.to_categorical(y_train, num_classes)\n",
    "y_test = keras.utils.to_categorical(y_test, num_classes)\n",
    "y_test[0]"
   ]
  },
  {
   "cell_type": "markdown",
   "id": "27b873a9-2346-4f6d-b079-94d0dd815a3c",
   "metadata": {},
   "source": [
    "## Define our model, and compile it"
   ]
  },
  {
   "cell_type": "code",
   "execution_count": 10,
   "id": "a755c067-5845-41c3-be4a-cf86a0ace93f",
   "metadata": {},
   "outputs": [],
   "source": [
    "model = Sequential()\n",
    "model = keras.Sequential(\n",
    "    [\n",
    "        keras.Input(shape=(784,)),\n",
    "        #layers.Dense(64, activation=\"relu\"),\n",
    "        #layers.Dense(32, activation=\"relu\"),\n",
    "        layers.Dense(num_classes, activation=\"softmax\"),\n",
    "    ]\n",
    ")\n",
    "\n",
    "model.compile(loss='categorical_crossentropy', optimizer='adam', metrics=['accuracy'])\n",
    "\n",
    "model.summary()"
   ]
  },
  {
   "cell_type": "markdown",
   "id": "e81982ad-69f8-411c-9e18-67d826fd2a60",
   "metadata": {},
   "source": [
    "## Train our model"
   ]
  },
  {
   "cell_type": "code",
   "execution_count": null,
   "id": "bc52a685-9411-4153-9f1b-052a18b9541c",
   "metadata": {},
   "outputs": [],
   "source": [
    "model.fit(x_train.reshape(60000, 784), y_train, epochs=5, batch_size=32, validation_split=0.1)"
   ]
  },
  {
   "cell_type": "markdown",
   "id": "6d4c9f82-bc36-45d6-be07-793882e5732b",
   "metadata": {},
   "source": [
    "## Score the model vs new data"
   ]
  },
  {
   "cell_type": "code",
   "execution_count": null,
   "id": "df54f7b2-97a7-4be5-ade7-8b59d699242e",
   "metadata": {},
   "outputs": [],
   "source": [
    "score = model.evaluate(x_test.reshape(10000, 784), y_test, verbose=0)\n",
    "print('test loss:', score[0])\n",
    "print('test accuracy:', score[1])"
   ]
  },
  {
   "cell_type": "markdown",
   "id": "aa15d10e-2408-4796-9c3b-28733d44c5fe",
   "metadata": {},
   "source": [
    "## Print the learned weights for each of the classes"
   ]
  },
  {
   "cell_type": "code",
   "execution_count": null,
   "id": "773bd15e-c3ce-48bb-878c-93c269f7a025",
   "metadata": {},
   "outputs": [],
   "source": [
    "layers = model.layers\n",
    "weights = layers[0].get_weights()\n",
    "\n",
    "f, axes = plt.subplots(2, 5, figsize=(10,4))\n",
    "axes = axes.reshape(-1)\n",
    "for i in range(len(axes)):\n",
    "    a = axes[i]\n",
    "    a.imshow((weights[0][0:784, i:i+1]).reshape(28, 28), cmap=plt.cm.seismic)\n",
    "    a.set_title(i)\n",
    "    a.set_xticks(())\n",
    "    a.set_yticks(())\n",
    "plt.show()"
   ]
  }
 ],
 "metadata": {
  "kernelspec": {
   "display_name": "Python 3 (ipykernel)",
   "language": "python",
   "name": "python3"
  },
  "language_info": {
   "codemirror_mode": {
    "name": "ipython",
    "version": 3
   },
   "file_extension": ".py",
   "mimetype": "text/x-python",
   "name": "python",
   "nbconvert_exporter": "python",
   "pygments_lexer": "ipython3",
   "version": "3.11.10"
  }
 },
 "nbformat": 4,
 "nbformat_minor": 5
}
